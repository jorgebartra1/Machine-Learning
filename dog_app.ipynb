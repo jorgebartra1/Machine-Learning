{
 "cells": [
  {
   "cell_type": "markdown",
   "metadata": {},
   "source": [
    "# Artificial Intelligence Nanodegree\n",
    "\n",
    "## Convolutional Neural Networks\n",
    "\n",
    "## Project: Write an Algorithm for a Dog Identification App \n",
    "\n",
    "---\n",
    "\n",
    "In this notebook, some template code has already been provided for you, and you will need to implement additional functionality to successfully complete this project. You will not need to modify the included code beyond what is requested. Sections that begin with **'(IMPLEMENTATION)'** in the header indicate that the following block of code will require additional functionality which you must provide. Instructions will be provided for each section, and the specifics of the implementation are marked in the code block with a 'TODO' statement. Please be sure to read the instructions carefully! \n",
    "\n",
    "> **Note**: Once you have completed all of the code implementations, you need to finalize your work by exporting the iPython Notebook as an HTML document. Before exporting the notebook to html, all of the code cells need to have been run so that reviewers can see the final implementation and output. You can then export the notebook by using the menu above and navigating to  \\n\",\n",
    "    \"**File -> Download as -> HTML (.html)**. Include the finished document along with this notebook as your submission.\n",
    "\n",
    "In addition to implementing code, there will be questions that you must answer which relate to the project and your implementation. Each section where you will answer a question is preceded by a **'Question X'** header. Carefully read each question and provide thorough answers in the following text boxes that begin with **'Answer:'**. Your project submission will be evaluated based on your answers to each of the questions and the implementation you provide.\n",
    "\n",
    ">**Note:** Code and Markdown cells can be executed using the **Shift + Enter** keyboard shortcut.  Markdown cells can be edited by double-clicking the cell to enter edit mode.\n",
    "\n",
    "The rubric contains _optional_ \"Stand Out Suggestions\" for enhancing the project beyond the minimum requirements. If you decide to pursue the \"Stand Out Suggestions\", you should include the code in this IPython notebook.\n",
    "\n",
    "\n",
    "\n",
    "---\n",
    "### Why We're Here \n",
    "\n",
    "In this notebook, you will make the first steps towards developing an algorithm that could be used as part of a mobile or web app.  At the end of this project, your code will accept any user-supplied image as input.  If a dog is detected in the image, it will provide an estimate of the dog's breed.  If a human is detected, it will provide an estimate of the dog breed that is most resembling.  The image below displays potential sample output of your finished project (... but we expect that each student's algorithm will behave differently!). \n",
    "\n",
    "![Sample Dog Output](images/sample_dog_output.png)\n",
    "\n",
    "In this real-world setting, you will need to piece together a series of models to perform different tasks; for instance, the algorithm that detects humans in an image will be different from the CNN that infers dog breed.  There are many points of possible failure, and no perfect algorithm exists.  Your imperfect solution will nonetheless create a fun user experience!\n",
    "\n",
    "### The Road Ahead\n",
    "\n",
    "We break the notebook into separate steps.  Feel free to use the links below to navigate the notebook.\n",
    "\n",
    "* [Step 0](#step0): Import Datasets\n",
    "* [Step 1](#step1): Detect Humans\n",
    "* [Step 2](#step2): Detect Dogs\n",
    "* [Step 3](#step3): Create a CNN to Classify Dog Breeds (from Scratch)\n",
    "* [Step 4](#step4): Use a CNN to Classify Dog Breeds (using Transfer Learning)\n",
    "* [Step 5](#step5): Create a CNN to Classify Dog Breeds (using Transfer Learning)\n",
    "* [Step 6](#step6): Write your Algorithm\n",
    "* [Step 7](#step7): Test Your Algorithm\n",
    "\n",
    "---\n",
    "<a id='step0'></a>\n",
    "## Step 0: Import Datasets\n",
    "\n",
    "### Import Dog Dataset\n",
    "\n",
    "In the code cell below, we import a dataset of dog images.  We populate a few variables through the use of the `load_files` function from the scikit-learn library:\n",
    "- `train_files`, `valid_files`, `test_files` - numpy arrays containing file paths to images\n",
    "- `train_targets`, `valid_targets`, `test_targets` - numpy arrays containing onehot-encoded classification labels \n",
    "- `dog_names` - list of string-valued dog breed names for translating labels"
   ]
  },
  {
   "cell_type": "code",
   "execution_count": 1,
   "metadata": {},
   "outputs": [
    {
     "name": "stderr",
     "output_type": "stream",
     "text": [
      "C:\\Users\\JBartra\\AppData\\Local\\Continuum\\anaconda3\\lib\\site-packages\\h5py\\__init__.py:36: FutureWarning: Conversion of the second argument of issubdtype from `float` to `np.floating` is deprecated. In future, it will be treated as `np.float64 == np.dtype(float).type`.\n",
      "  from ._conv import register_converters as _register_converters\n",
      "Using TensorFlow backend.\n"
     ]
    },
    {
     "name": "stdout",
     "output_type": "stream",
     "text": [
      "There are 133 total dog categories.\n",
      "There are 8351 total dog images.\n",
      "\n",
      "There are 6680 training dog images.\n",
      "There are 835 validation dog images.\n",
      "There are 836 test dog images.\n"
     ]
    }
   ],
   "source": [
    "from sklearn.datasets import load_files       \n",
    "from keras.utils import np_utils\n",
    "import numpy as np\n",
    "from glob import glob\n",
    "\n",
    "# define function to load train, test, and validation datasets\n",
    "def load_dataset(path):\n",
    "    data = load_files(path)\n",
    "    dog_files = np.array(data['filenames'])\n",
    "    dog_targets = np_utils.to_categorical(np.array(data['target']), 133)\n",
    "    return dog_files, dog_targets\n",
    "\n",
    "# load train, test, and validation datasets\n",
    "train_files, train_targets = load_dataset('images/dogImages/train/')\n",
    "valid_files, valid_targets = load_dataset('images/dogImages/valid/')\n",
    "test_files, test_targets = load_dataset('images/dogImages/test/')\n",
    "\n",
    "# load list of dog names\n",
    "dog_names = [item[20:-1] for item in sorted(glob(\"images/dogImages/train/*/\"))]\n",
    "\n",
    "# print statistics about the dataset\n",
    "print('There are %d total dog categories.' % len(dog_names))\n",
    "print('There are %s total dog images.\\n' % len(np.hstack([train_files, valid_files, test_files])))\n",
    "print('There are %d training dog images.' % len(train_files))\n",
    "print('There are %d validation dog images.' % len(valid_files))\n",
    "print('There are %d test dog images.'% len(test_files))\n",
    "#print(glob(\"images/dogImages/train/*/*\"))"
   ]
  },
  {
   "cell_type": "markdown",
   "metadata": {},
   "source": [
    "### Import Human Dataset\n",
    "\n",
    "In the code cell below, we import a dataset of human images, where the file paths are stored in the numpy array `human_files`."
   ]
  },
  {
   "cell_type": "code",
   "execution_count": 2,
   "metadata": {},
   "outputs": [
    {
     "name": "stdout",
     "output_type": "stream",
     "text": [
      "There are 13233 total human images.\n"
     ]
    }
   ],
   "source": [
    "import random\n",
    "random.seed(8675309)\n",
    "\n",
    "# load filenames in shuffled human dataset\n",
    "human_files = np.array(glob(\"lfw/lfw/*/*\"))\n",
    "\n",
    "random.shuffle(human_files)\n",
    "\n",
    "# print statistics about the dataset\n",
    "print('There are %d total human images.' % len(human_files))\n",
    "#print (human_files[1])"
   ]
  },
  {
   "cell_type": "markdown",
   "metadata": {},
   "source": [
    "---\n",
    "<a id='step1'></a>\n",
    "## Step 1: Detect Humans\n",
    "\n",
    "We use OpenCV's implementation of [Haar feature-based cascade classifiers](http://docs.opencv.org/trunk/d7/d8b/tutorial_py_face_detection.html) to detect human faces in images.  OpenCV provides many pre-trained face detectors, stored as XML files on [github](https://github.com/opencv/opencv/tree/master/data/haarcascades).  We have downloaded one of these detectors and stored it in the `haarcascades` directory.\n",
    "\n",
    "In the next code cell, we demonstrate how to use this detector to find human faces in a sample image."
   ]
  },
  {
   "cell_type": "code",
   "execution_count": 3,
   "metadata": {},
   "outputs": [
    {
     "ename": "ImportError",
     "evalue": "DLL load failed: The specified module could not be found.",
     "output_type": "error",
     "traceback": [
      "\u001b[1;31m---------------------------------------------------------------------------\u001b[0m",
      "\u001b[1;31mImportError\u001b[0m                               Traceback (most recent call last)",
      "\u001b[1;32m<ipython-input-3-8b24b27e6057>\u001b[0m in \u001b[0;36m<module>\u001b[1;34m()\u001b[0m\n\u001b[1;32m----> 1\u001b[1;33m \u001b[1;32mimport\u001b[0m \u001b[0mcv2\u001b[0m\u001b[1;33m\u001b[0m\u001b[0m\n\u001b[0m\u001b[0;32m      2\u001b[0m \u001b[1;31m#import matplotlib.pyplot as plt\u001b[0m\u001b[1;33m\u001b[0m\u001b[1;33m\u001b[0m\u001b[0m\n\u001b[0;32m      3\u001b[0m \u001b[1;31m#%matplotlib inline\u001b[0m\u001b[1;33m\u001b[0m\u001b[1;33m\u001b[0m\u001b[0m\n\u001b[0;32m      4\u001b[0m \u001b[1;33m\u001b[0m\u001b[0m\n\u001b[0;32m      5\u001b[0m \u001b[1;31m# extract pre-trained face detector\u001b[0m\u001b[1;33m\u001b[0m\u001b[1;33m\u001b[0m\u001b[0m\n",
      "\u001b[1;31mImportError\u001b[0m: DLL load failed: The specified module could not be found."
     ]
    }
   ],
   "source": [
    "import cv2                \n",
    "#import matplotlib.pyplot as plt                        \n",
    "#%matplotlib inline                               \n",
    "\n",
    "# extract pre-trained face detector\n",
    "face_cascade = cv2.CascadeClassifier('haarcascades/haarcascade_frontalface_alt.xml')\n",
    "\n",
    "print (human_files[10])\n",
    "\n",
    "# load color (BGR) image\n",
    "img = cv2.imread(human_files[10])\n",
    "\n",
    "\n",
    "# convert BGR image to grayscale\n",
    "gray = cv2.cvtColor(img, cv2.COLOR_BGR2GRAY)\n",
    "\n",
    "\n",
    "# find faces in image\n",
    "faces = face_cascade.detectMultiScale(gray)\n",
    "\n",
    "# print number of faces detected in the image\n",
    "print('Number of faces detected:', len(faces))\n",
    "\n",
    "# get bounding box for each detected face\n",
    "for (x,y,w,h) in faces:\n",
    "    # add bounding box to color image\n",
    "    cv2.rectangle(img,(x,y),(x+w,y+h),(255,0,0),2)\n",
    "    \n",
    "# convert BGR image to RGB for plotting\n",
    "cv_rgb = cv2.cvtColor(img, cv2.COLOR_BGR2RGB)\n",
    "\n",
    "# display the image, along with bounding box\n",
    "#plt.imshow(cv_rgb)\n",
    "#plt.show()"
   ]
  },
  {
   "cell_type": "markdown",
   "metadata": {},
   "source": [
    "Before using any of the face detectors, it is standard procedure to convert the images to grayscale.  The `detectMultiScale` function executes the classifier stored in `face_cascade` and takes the grayscale image as a parameter.  \n",
    "\n",
    "In the above code, `faces` is a numpy array of detected faces, where each row corresponds to a detected face.  Each detected face is a 1D array with four entries that specifies the bounding box of the detected face.  The first two entries in the array (extracted in the above code as `x` and `y`) specify the horizontal and vertical positions of the top left corner of the bounding box.  The last two entries in the array (extracted here as `w` and `h`) specify the width and height of the box.\n",
    "\n",
    "### Write a Human Face Detector\n",
    "\n",
    "We can use this procedure to write a function that returns `True` if a human face is detected in an image and `False` otherwise.  This function, aptly named `face_detector`, takes a string-valued file path to an image as input and appears in the code block below."
   ]
  },
  {
   "cell_type": "code",
   "execution_count": 74,
   "metadata": {},
   "outputs": [],
   "source": [
    "# returns \"True\" if face is detected in image stored at img_path\n",
    "def face_detector(img_path):\n",
    "    img = cv2.imread(img_path)\n",
    "    gray = cv2.cvtColor(img, cv2.COLOR_BGR2GRAY)\n",
    "    faces = face_cascade.detectMultiScale(gray)\n",
    "    return len(faces) > 0"
   ]
  },
  {
   "cell_type": "markdown",
   "metadata": {},
   "source": [
    "### (IMPLEMENTATION) Assess the Human Face Detector\n",
    "\n",
    "__Question 1:__ Use the code cell below to test the performance of the `face_detector` function.  \n",
    "- What percentage of the first 100 images in `human_files` have a detected human face?  \n",
    "- What percentage of the first 100 images in `dog_files` have a detected human face? \n",
    "\n",
    "Ideally, we would like 100% of human images with a detected face and 0% of dog images with a detected face.  You will see that our algorithm falls short of this goal, but still gives acceptable performance.  We extract the file paths for the first 100 images from each of the datasets and store them in the numpy arrays `human_files_short` and `dog_files_short`.\n",
    "\n",
    "__Answer:__"
   ]
  },
  {
   "cell_type": "code",
   "execution_count": 82,
   "metadata": {},
   "outputs": [
    {
     "name": "stdout",
     "output_type": "stream",
     "text": [
      "99 of the first 100 images in human_files have a detected human face\n",
      "11 of the first 100 images in dog_files have a detected human face\n"
     ]
    }
   ],
   "source": [
    "human_files_short = human_files[:100]\n",
    "dog_files_short = train_files[:100]\n",
    "# Do NOT modify the code above this line.\n",
    "\n",
    "## TODO: Test the performance of the face_detector algorithm \n",
    "## on the images in human_files_short and dog_files_short.\n",
    "humanInHumans = np.sum([face_detector(i) for i in human_files_short])\n",
    "humanInDogs = np.sum([face_detector(i) for i in dog_files_short])\n",
    "print(\"%d of the first 100 images in human_files have a detected human face\" % humanInHumans)\n",
    "print(\"%d of the first 100 images in dog_files have a detected human face\" % humanInDogs)"
   ]
  },
  {
   "cell_type": "markdown",
   "metadata": {},
   "source": [
    "__Question 2:__ This algorithmic choice necessitates that we communicate to the user that we accept human images only when they provide a clear view of a face (otherwise, we risk having unneccessarily frustrated users!). In your opinion, is this a reasonable expectation to pose on the user? If not, can you think of a way to detect humans in images that does not necessitate an image with a clearly presented face?\n",
    "\n",
    "__Answer:I do not think it is a reasonable expectation. The algorithm used to create the model should be improved using different techniques. In this case we could add extra layers of complexity such as complementing the code with 'haarcascade_eye.xml' or 'haarcascade_mcs_mouth.xml' and some others available from OPENCV. Also there are other OPENCV techniques called Morphologic Operations (1) such as EigenFaces (image illumination, facial features or EigenVectors for blurry images with movement) , FisherFaces (primarily not used for image illumination but for facial features) and Local Binary Patterns (uses binary systems to compare adjacent pixels). Also working on a single image not always is the best results therefore having several images of the same person helps with the algorithm (2).\n",
    "\n",
    "1)http://mozanunal.com/2016/06/passface-face-recognition-using-opencv/\n",
    "2)https://www.docs.opencv.org/2.4/modules/contrib/doc/facerec/facerec_tutorial.html#\n",
    "\n",
    "We suggest the face detector from OpenCV as a potential way to detect human images in your algorithm, but you are free to explore other approaches, especially approaches that make use of deep learning :).  Please use the code cell below to design and test your own face detection algorithm.  If you decide to pursue this _optional_ task, report performance on each of the datasets."
   ]
  },
  {
   "cell_type": "code",
   "execution_count": null,
   "metadata": {
    "collapsed": true
   },
   "outputs": [],
   "source": [
    "## (Optional) TODO: Report the performance of another  \n",
    "## face detection algorithm on the LFW dataset\n",
    "### Feel free to use as many code cells as needed."
   ]
  },
  {
   "cell_type": "markdown",
   "metadata": {},
   "source": [
    "---\n",
    "<a id='step2'></a>\n",
    "## Step 2: Detect Dogs\n",
    "\n",
    "In this section, we use a pre-trained [ResNet-50](http://ethereon.github.io/netscope/#/gist/db945b393d40bfa26006) model to detect dogs in images.  Our first line of code downloads the ResNet-50 model, along with weights that have been trained on [ImageNet](http://www.image-net.org/), a very large, very popular dataset used for image classification and other vision tasks.  ImageNet contains over 10 million URLs, each linking to an image containing an object from one of [1000 categories](https://gist.github.com/yrevar/942d3a0ac09ec9e5eb3a).  Given an image, this pre-trained ResNet-50 model returns a prediction (derived from the available categories in ImageNet) for the object that is contained in the image."
   ]
  },
  {
   "cell_type": "code",
   "execution_count": 83,
   "metadata": {},
   "outputs": [
    {
     "name": "stdout",
     "output_type": "stream",
     "text": [
      "Downloading data from https://github.com/fchollet/deep-learning-models/releases/download/v0.2/resnet50_weights_tf_dim_ordering_tf_kernels.h5\n",
      "102858752/102853048 [==============================] - 21s 0us/step\n"
     ]
    }
   ],
   "source": [
    "from keras.applications.resnet50 import ResNet50\n",
    "\n",
    "# define ResNet50 model\n",
    "ResNet50_model = ResNet50(weights='imagenet')"
   ]
  },
  {
   "cell_type": "markdown",
   "metadata": {},
   "source": [
    "### Pre-process the Data\n",
    "\n",
    "When using TensorFlow as backend, Keras CNNs require a 4D array (which we'll also refer to as a 4D tensor) as input, with shape\n",
    "\n",
    "$$\n",
    "(\\text{nb_samples}, \\text{rows}, \\text{columns}, \\text{channels}),\n",
    "$$\n",
    "\n",
    "where `nb_samples` corresponds to the total number of images (or samples), and `rows`, `columns`, and `channels` correspond to the number of rows, columns, and channels for each image, respectively.  \n",
    "\n",
    "The `path_to_tensor` function below takes a string-valued file path to a color image as input and returns a 4D tensor suitable for supplying to a Keras CNN.  The function first loads the image and resizes it to a square image that is $224 \\times 224$ pixels.  Next, the image is converted to an array, which is then resized to a 4D tensor.  In this case, since we are working with color images, each image has three channels.  Likewise, since we are processing a single image (or sample), the returned tensor will always have shape\n",
    "\n",
    "$$\n",
    "(1, 224, 224, 3).\n",
    "$$\n",
    "\n",
    "The `paths_to_tensor` function takes a numpy array of string-valued image paths as input and returns a 4D tensor with shape \n",
    "\n",
    "$$\n",
    "(\\text{nb_samples}, 224, 224, 3).\n",
    "$$\n",
    "\n",
    "Here, `nb_samples` is the number of samples, or number of images, in the supplied array of image paths.  It is best to think of `nb_samples` as the number of 3D tensors (where each 3D tensor corresponds to a different image) in your dataset!"
   ]
  },
  {
   "cell_type": "code",
   "execution_count": 89,
   "metadata": {},
   "outputs": [],
   "source": [
    "from keras.preprocessing import image                  \n",
    "from tqdm import tqdm\n",
    "\n",
    "def path_to_tensor(img_path):\n",
    "    # loads RGB image as PIL.Image.Image type\n",
    "    img = image.load_img(img_path, target_size=(224, 224))\n",
    "    # convert PIL.Image.Image type to 3D tensor with shape (224, 224, 3)\n",
    "    x = image.img_to_array(img)\n",
    "    # convert 3D tensor to 4D tensor with shape (1, 224, 224, 3) and return 4D tensor\n",
    "    return np.expand_dims(x, axis=0)\n",
    "\n",
    "def paths_to_tensor(img_paths):\n",
    "    list_of_tensors = [path_to_tensor(img_path) for img_path in tqdm(img_paths)]\n",
    "    return np.vstack(list_of_tensors)"
   ]
  },
  {
   "cell_type": "markdown",
   "metadata": {},
   "source": [
    "### Making Predictions with ResNet-50\n",
    "\n",
    "Getting the 4D tensor ready for ResNet-50, and for any other pre-trained model in Keras, requires some additional processing.  First, the RGB image is converted to BGR by reordering the channels.  All pre-trained models have the additional normalization step that the mean pixel (expressed in RGB as $[103.939, 116.779, 123.68]$ and calculated from all pixels in all images in ImageNet) must be subtracted from every pixel in each image.  This is implemented in the imported function `preprocess_input`.  If you're curious, you can check the code for `preprocess_input` [here](https://github.com/fchollet/keras/blob/master/keras/applications/imagenet_utils.py).\n",
    "\n",
    "Now that we have a way to format our image for supplying to ResNet-50, we are now ready to use the model to extract the predictions.  This is accomplished with the `predict` method, which returns an array whose $i$-th entry is the model's predicted probability that the image belongs to the $i$-th ImageNet category.  This is implemented in the `ResNet50_predict_labels` function below.\n",
    "\n",
    "By taking the argmax of the predicted probability vector, we obtain an integer corresponding to the model's predicted object class, which we can identify with an object category through the use of this [dictionary](https://gist.github.com/yrevar/942d3a0ac09ec9e5eb3a). "
   ]
  },
  {
   "cell_type": "code",
   "execution_count": 90,
   "metadata": {},
   "outputs": [],
   "source": [
    "from keras.applications.resnet50 import preprocess_input, decode_predictions\n",
    "\n",
    "def ResNet50_predict_labels(img_path):\n",
    "    # returns prediction vector for image located at img_path\n",
    "    img = preprocess_input(path_to_tensor(img_path))\n",
    "    return np.argmax(ResNet50_model.predict(img))"
   ]
  },
  {
   "cell_type": "markdown",
   "metadata": {},
   "source": [
    "### Write a Dog Detector\n",
    "\n",
    "While looking at the [dictionary](https://gist.github.com/yrevar/942d3a0ac09ec9e5eb3a), you will notice that the categories corresponding to dogs appear in an uninterrupted sequence and correspond to dictionary keys 151-268, inclusive, to include all categories from `'Chihuahua'` to `'Mexican hairless'`.  Thus, in order to check to see if an image is predicted to contain a dog by the pre-trained ResNet-50 model, we need only check if the `ResNet50_predict_labels` function above returns a value between 151 and 268 (inclusive).\n",
    "\n",
    "We use these ideas to complete the `dog_detector` function below, which returns `True` if a dog is detected in an image (and `False` if not)."
   ]
  },
  {
   "cell_type": "code",
   "execution_count": 91,
   "metadata": {},
   "outputs": [],
   "source": [
    "### returns \"True\" if a dog is detected in the image stored at img_path\n",
    "def dog_detector(img_path):\n",
    "    prediction = ResNet50_predict_labels(img_path)\n",
    "    return ((prediction <= 268) & (prediction >= 151)) "
   ]
  },
  {
   "cell_type": "markdown",
   "metadata": {},
   "source": [
    "### (IMPLEMENTATION) Assess the Dog Detector\n",
    "\n",
    "__Question 3:__ Use the code cell below to test the performance of your `dog_detector` function.  \n",
    "- What percentage of the images in `human_files_short` have a detected dog?  \n",
    "- What percentage of the images in `dog_files_short` have a detected dog?\n",
    "\n",
    "__Answer:__ "
   ]
  },
  {
   "cell_type": "code",
   "execution_count": 92,
   "metadata": {},
   "outputs": [
    {
     "name": "stdout",
     "output_type": "stream",
     "text": [
      "1 of the images in human_files_short have a detected dog.\n",
      "100 of the images in dog_files_short have a detected dog.\n"
     ]
    }
   ],
   "source": [
    "### TODO: Test the performance of the dog_detector function\n",
    "### on the images in human_files_short and dog_files_short.\n",
    "dogInHumans = np.sum([dog_detector(img) for img in human_files_short])\n",
    "dogInDogs = np.sum([dog_detector(img) for img in dog_files_short])\n",
    "print(\"%d of the images in human_files_short have a detected dog.\" % dogInHumans)\n",
    "print(\"%d of the images in dog_files_short have a detected dog.\" % dogInDogs)"
   ]
  },
  {
   "cell_type": "markdown",
   "metadata": {},
   "source": [
    "---\n",
    "<a id='step3'></a>\n",
    "## Step 3: Create a CNN to Classify Dog Breeds (from Scratch)\n",
    "\n",
    "Now that we have functions for detecting humans and dogs in images, we need a way to predict breed from images.  In this step, you will create a CNN that classifies dog breeds.  You must create your CNN _from scratch_ (so, you can't use transfer learning _yet_!), and you must attain a test accuracy of at least 1%.  In Step 5 of this notebook, you will have the opportunity to use transfer learning to create a CNN that attains greatly improved accuracy.\n",
    "\n",
    "Be careful with adding too many trainable layers!  More parameters means longer training, which means you are more likely to need a GPU to accelerate the training process.  Thankfully, Keras provides a handy estimate of the time that each epoch is likely to take; you can extrapolate this estimate to figure out how long it will take for your algorithm to train. \n",
    "\n",
    "We mention that the task of assigning breed to dogs from images is considered exceptionally challenging.  To see why, consider that *even a human* would have great difficulty in distinguishing between a Brittany and a Welsh Springer Spaniel.  \n",
    "\n",
    "Brittany | Welsh Springer Spaniel\n",
    "- | - \n",
    "<img src=\"images/Brittany_02625.jpg\" width=\"100\"> | <img src=\"images/Welsh_springer_spaniel_08203.jpg\" width=\"200\">\n",
    "\n",
    "It is not difficult to find other dog breed pairs with minimal inter-class variation (for instance, Curly-Coated Retrievers and American Water Spaniels).  \n",
    "\n",
    "Curly-Coated Retriever | American Water Spaniel\n",
    "- | -\n",
    "<img src=\"images/Curly-coated_retriever_03896.jpg\" width=\"200\"> | <img src=\"images/American_water_spaniel_00648.jpg\" width=\"200\">\n",
    "\n",
    "\n",
    "Likewise, recall that labradors come in yellow, chocolate, and black.  Your vision-based algorithm will have to conquer this high intra-class variation to determine how to classify all of these different shades as the same breed.  \n",
    "\n",
    "Yellow Labrador | Chocolate Labrador | Black Labrador\n",
    "- | -\n",
    "<img src=\"images/Labrador_retriever_06457.jpg\" width=\"150\"> | <img src=\"images/Labrador_retriever_06455.jpg\" width=\"240\"> | <img src=\"images/Labrador_retriever_06449.jpg\" width=\"220\">\n",
    "\n",
    "We also mention that random chance presents an exceptionally low bar: setting aside the fact that the classes are slightly imabalanced, a random guess will provide a correct answer roughly 1 in 133 times, which corresponds to an accuracy of less than 1%.  \n",
    "\n",
    "Remember that the practice is far ahead of the theory in deep learning.  Experiment with many different architectures, and trust your intuition.  And, of course, have fun! \n",
    "\n",
    "### Pre-process the Data\n",
    "\n",
    "We rescale the images by dividing every pixel in every image by 255."
   ]
  },
  {
   "cell_type": "code",
   "execution_count": 93,
   "metadata": {},
   "outputs": [
    {
     "name": "stderr",
     "output_type": "stream",
     "text": [
      "100%|██████████| 6680/6680 [01:29<00:00, 75.00it/s] \n",
      "100%|██████████| 835/835 [00:08<00:00, 97.99it/s] \n",
      "100%|██████████| 836/836 [00:07<00:00, 105.84it/s]\n"
     ]
    }
   ],
   "source": [
    "from PIL import ImageFile                            \n",
    "ImageFile.LOAD_TRUNCATED_IMAGES = True                 \n",
    "\n",
    "# pre-process the data for Keras\n",
    "train_tensors = paths_to_tensor(train_files).astype('float32')/255\n",
    "valid_tensors = paths_to_tensor(valid_files).astype('float32')/255\n",
    "test_tensors = paths_to_tensor(test_files).astype('float32')/255"
   ]
  },
  {
   "cell_type": "markdown",
   "metadata": {},
   "source": [
    "### (IMPLEMENTATION) Model Architecture\n",
    "\n",
    "Create a CNN to classify dog breed.  At the end of your code cell block, summarize the layers of your model by executing the line:\n",
    "    \n",
    "        model.summary()\n",
    "\n",
    "We have imported some Python modules to get you started, but feel free to import as many modules as you need.  If you end up getting stuck, here's a hint that specifies a model that trains relatively fast on CPU and attains >1% test accuracy in 5 epochs:\n",
    "\n",
    "![Sample CNN](images/sample_cnn.png)\n",
    "           \n",
    "__Question 4:__ Outline the steps you took to get to your final CNN architecture and your reasoning at each step.  If you chose to use the hinted architecture above, describe why you think that CNN architecture should work well for the image classification task.\n",
    "\n",
    "__Answer:__ "
   ]
  },
  {
   "cell_type": "code",
   "execution_count": 95,
   "metadata": {},
   "outputs": [
    {
     "name": "stdout",
     "output_type": "stream",
     "text": [
      "_________________________________________________________________\n",
      "Layer (type)                 Output Shape              Param #   \n",
      "=================================================================\n",
      "conv2d_4 (Conv2D)            (None, 222, 222, 16)      448       \n",
      "_________________________________________________________________\n",
      "max_pooling2d_5 (MaxPooling2 (None, 111, 111, 16)      0         \n",
      "_________________________________________________________________\n",
      "dropout_5 (Dropout)          (None, 111, 111, 16)      0         \n",
      "_________________________________________________________________\n",
      "conv2d_5 (Conv2D)            (None, 109, 109, 32)      4640      \n",
      "_________________________________________________________________\n",
      "max_pooling2d_6 (MaxPooling2 (None, 55, 55, 32)        0         \n",
      "_________________________________________________________________\n",
      "dropout_6 (Dropout)          (None, 55, 55, 32)        0         \n",
      "_________________________________________________________________\n",
      "conv2d_6 (Conv2D)            (None, 53, 53, 64)        18496     \n",
      "_________________________________________________________________\n",
      "max_pooling2d_7 (MaxPooling2 (None, 26, 26, 64)        0         \n",
      "_________________________________________________________________\n",
      "dropout_7 (Dropout)          (None, 26, 26, 64)        0         \n",
      "_________________________________________________________________\n",
      "flatten_3 (Flatten)          (None, 43264)             0         \n",
      "_________________________________________________________________\n",
      "dense_3 (Dense)              (None, 64)                2768960   \n",
      "_________________________________________________________________\n",
      "dropout_8 (Dropout)          (None, 64)                0         \n",
      "_________________________________________________________________\n",
      "dense_4 (Dense)              (None, 133)               8645      \n",
      "=================================================================\n",
      "Total params: 2,801,189\n",
      "Trainable params: 2,801,189\n",
      "Non-trainable params: 0\n",
      "_________________________________________________________________\n"
     ]
    }
   ],
   "source": [
    "from keras.layers import Conv2D, MaxPooling2D, GlobalAveragePooling2D\n",
    "from keras.layers import Dropout, Flatten, Dense\n",
    "from keras.models import Sequential\n",
    "\n",
    "model = Sequential()\n",
    "\n",
    "### TODO: Define your architecture.\n",
    "model = Sequential()\n",
    "model.add(Conv2D(16,(3, 3),activation='relu',input_shape=train_tensors[0].shape))\n",
    "model.add(MaxPooling2D(pool_size=(2, 2), strides=None, padding='same'))\n",
    "model.add(Dropout(0.3))\n",
    "model.add(Conv2D(32, (3,3), activation='relu'))\n",
    "model.add(MaxPooling2D(pool_size=(2, 2), strides=None, padding='same'))\n",
    "model.add(Dropout(0.3))\n",
    "model.add(Conv2D(64, (3,3), activation='relu'))\n",
    "model.add(MaxPooling2D(pool_size=(2, 2), strides=None, padding='valid'))\n",
    "model.add(Dropout(0.3))\n",
    "model.add(Flatten())\n",
    "model.add(Dense(64, activation='relu'))\n",
    "model.add(Dropout(0.2))\n",
    "model.add(Dense(133, activation='softmax'))\n",
    "\n",
    "\n",
    "model.summary()"
   ]
  },
  {
   "cell_type": "markdown",
   "metadata": {},
   "source": [
    "### Compile the Model"
   ]
  },
  {
   "cell_type": "code",
   "execution_count": 96,
   "metadata": {},
   "outputs": [],
   "source": [
    "model.compile(optimizer='rmsprop', loss='categorical_crossentropy', metrics=['accuracy'])"
   ]
  },
  {
   "cell_type": "markdown",
   "metadata": {},
   "source": [
    "### (IMPLEMENTATION) Train the Model\n",
    "\n",
    "Train your model in the code cell below.  Use model checkpointing to save the model that attains the best validation loss.\n",
    "\n",
    "You are welcome to [augment the training data](https://blog.keras.io/building-powerful-image-classification-models-using-very-little-data.html), but this is not a requirement. "
   ]
  },
  {
   "cell_type": "code",
   "execution_count": null,
   "metadata": {},
   "outputs": [
    {
     "name": "stdout",
     "output_type": "stream",
     "text": [
      "Train on 6680 samples, validate on 835 samples\n",
      "Epoch 1/10\n",
      "4060/6680 [=================>............] - ETA: 21:16 - loss: 4.9148 - acc: 0.0000e+ - ETA: 14:23 - loss: 8.8233 - acc: 0.0250   - ETA: 11:49 - loss: 8.5787 - acc: 0.01 - ETA: 10:35 - loss: 7.6844 - acc: 0.01 - ETA: 9:48 - loss: 7.1173 - acc: 0.0100 - ETA: 9:19 - loss: 6.7329 - acc: 0.008 - ETA: 8:55 - loss: 6.4691 - acc: 0.007 - ETA: 8:41 - loss: 6.2764 - acc: 0.006 - ETA: 8:27 - loss: 6.1270 - acc: 0.005 - ETA: 8:16 - loss: 6.0115 - acc: 0.005 - ETA: 8:09 - loss: 5.9131 - acc: 0.004 - ETA: 8:03 - loss: 5.8280 - acc: 0.004 - ETA: 7:58 - loss: 5.7560 - acc: 0.003 - ETA: 7:51 - loss: 5.6929 - acc: 0.003 - ETA: 7:45 - loss: 5.6415 - acc: 0.003 - ETA: 7:41 - loss: 5.5944 - acc: 0.006 - ETA: 7:36 - loss: 5.5547 - acc: 0.005 - ETA: 7:30 - loss: 5.5177 - acc: 0.005 - ETA: 7:27 - loss: 5.4841 - acc: 0.005 - ETA: 7:23 - loss: 5.4551 - acc: 0.005 - ETA: 7:19 - loss: 5.4292 - acc: 0.004 - ETA: 7:17 - loss: 5.4042 - acc: 0.006 - ETA: 7:14 - loss: 5.3822 - acc: 0.006 - ETA: 7:15 - loss: 5.3630 - acc: 0.006 - ETA: 7:13 - loss: 5.3439 - acc: 0.006 - ETA: 7:11 - loss: 5.3262 - acc: 0.007 - ETA: 7:08 - loss: 5.3099 - acc: 0.007 - ETA: 7:06 - loss: 5.2950 - acc: 0.007 - ETA: 7:04 - loss: 5.2811 - acc: 0.006 - ETA: 7:01 - loss: 5.2677 - acc: 0.006 - ETA: 6:58 - loss: 5.2545 - acc: 0.006 - ETA: 6:56 - loss: 5.2438 - acc: 0.006 - ETA: 6:54 - loss: 5.2327 - acc: 0.006 - ETA: 6:52 - loss: 5.2226 - acc: 0.005 - ETA: 6:50 - loss: 5.2139 - acc: 0.005 - ETA: 6:50 - loss: 5.2051 - acc: 0.005 - ETA: 6:48 - loss: 5.1964 - acc: 0.005 - ETA: 6:46 - loss: 5.1882 - acc: 0.005 - ETA: 6:43 - loss: 5.1811 - acc: 0.005 - ETA: 6:42 - loss: 5.1740 - acc: 0.005 - ETA: 6:40 - loss: 5.1670 - acc: 0.004 - ETA: 6:39 - loss: 5.1600 - acc: 0.004 - ETA: 6:37 - loss: 5.1538 - acc: 0.004 - ETA: 6:35 - loss: 5.1477 - acc: 0.005 - ETA: 6:34 - loss: 5.1419 - acc: 0.005 - ETA: 6:32 - loss: 5.1363 - acc: 0.006 - ETA: 6:30 - loss: 5.1311 - acc: 0.006 - ETA: 6:30 - loss: 5.1265 - acc: 0.006 - ETA: 6:30 - loss: 5.1216 - acc: 0.006 - ETA: 6:29 - loss: 5.1169 - acc: 0.006 - ETA: 6:27 - loss: 5.1122 - acc: 0.005 - ETA: 6:26 - loss: 5.1080 - acc: 0.005 - ETA: 6:24 - loss: 5.1034 - acc: 0.005 - ETA: 6:22 - loss: 5.0997 - acc: 0.005 - ETA: 6:21 - loss: 5.0957 - acc: 0.006 - ETA: 6:19 - loss: 5.0931 - acc: 0.007 - ETA: 6:17 - loss: 5.0897 - acc: 0.007 - ETA: 6:16 - loss: 5.0863 - acc: 0.006 - ETA: 6:14 - loss: 5.0830 - acc: 0.006 - ETA: 6:13 - loss: 5.0798 - acc: 0.007 - ETA: 6:12 - loss: 5.0766 - acc: 0.007 - ETA: 6:11 - loss: 5.0736 - acc: 0.007 - ETA: 6:09 - loss: 5.0707 - acc: 0.007 - ETA: 6:08 - loss: 5.0679 - acc: 0.007 - ETA: 6:06 - loss: 5.0652 - acc: 0.006 - ETA: 6:04 - loss: 5.0625 - acc: 0.006 - ETA: 6:03 - loss: 5.0600 - acc: 0.006 - ETA: 6:01 - loss: 5.0574 - acc: 0.007 - ETA: 5:59 - loss: 5.0548 - acc: 0.008 - ETA: 5:58 - loss: 5.0527 - acc: 0.007 - ETA: 5:57 - loss: 5.0504 - acc: 0.007 - ETA: 5:56 - loss: 5.0482 - acc: 0.007 - ETA: 5:55 - loss: 5.0461 - acc: 0.007 - ETA: 5:54 - loss: 5.0439 - acc: 0.007 - ETA: 5:52 - loss: 5.0417 - acc: 0.007 - ETA: 5:51 - loss: 5.0399 - acc: 0.007 - ETA: 5:50 - loss: 5.0379 - acc: 0.007 - ETA: 5:48 - loss: 5.0360 - acc: 0.007 - ETA: 5:46 - loss: 5.0337 - acc: 0.007 - ETA: 5:45 - loss: 5.0328 - acc: 0.006 - ETA: 5:43 - loss: 5.0314 - acc: 0.007 - ETA: 5:42 - loss: 5.0297 - acc: 0.007 - ETA: 5:41 - loss: 5.0280 - acc: 0.007 - ETA: 5:40 - loss: 5.0262 - acc: 0.007 - ETA: 5:39 - loss: 5.0247 - acc: 0.007 - ETA: 5:37 - loss: 5.0231 - acc: 0.007 - ETA: 5:36 - loss: 5.0217 - acc: 0.007 - ETA: 5:34 - loss: 5.0202 - acc: 0.007 - ETA: 5:33 - loss: 5.0187 - acc: 0.007 - ETA: 5:31 - loss: 5.0173 - acc: 0.007 - ETA: 5:30 - loss: 5.0159 - acc: 0.007 - ETA: 5:28 - loss: 5.0145 - acc: 0.007 - ETA: 5:27 - loss: 5.0131 - acc: 0.007 - ETA: 5:26 - loss: 5.0117 - acc: 0.007 - ETA: 5:24 - loss: 5.0104 - acc: 0.007 - ETA: 5:24 - loss: 5.0091 - acc: 0.007 - ETA: 5:22 - loss: 5.0084 - acc: 0.007 - ETA: 5:21 - loss: 5.0071 - acc: 0.008 - ETA: 5:20 - loss: 5.0060 - acc: 0.008 - ETA: 5:18 - loss: 5.0046 - acc: 0.008 - ETA: 5:17 - loss: 5.0057 - acc: 0.007 - ETA: 5:15 - loss: 5.0045 - acc: 0.007 - ETA: 5:14 - loss: 5.0034 - acc: 0.007 - ETA: 5:12 - loss: 5.0024 - acc: 0.007 - ETA: 5:11 - loss: 5.0014 - acc: 0.007 - ETA: 5:09 - loss: 5.0003 - acc: 0.007 - ETA: 5:08 - loss: 4.9992 - acc: 0.007 - ETA: 5:07 - loss: 4.9982 - acc: 0.007 - ETA: 5:06 - loss: 4.9972 - acc: 0.007 - ETA: 5:04 - loss: 4.9962 - acc: 0.007 - ETA: 5:03 - loss: 4.9952 - acc: 0.007 - ETA: 5:01 - loss: 4.9943 - acc: 0.007 - ETA: 5:00 - loss: 4.9933 - acc: 0.008 - ETA: 4:58 - loss: 4.9923 - acc: 0.008 - ETA: 4:57 - loss: 4.9915 - acc: 0.008 - ETA: 4:55 - loss: 4.9906 - acc: 0.008 - ETA: 4:54 - loss: 4.9898 - acc: 0.008 - ETA: 4:53 - loss: 4.9889 - acc: 0.008 - ETA: 4:51 - loss: 4.9880 - acc: 0.008 - ETA: 4:50 - loss: 4.9871 - acc: 0.009 - ETA: 4:49 - loss: 4.9863 - acc: 0.009 - ETA: 4:48 - loss: 4.9855 - acc: 0.009 - ETA: 4:46 - loss: 4.9846 - acc: 0.009 - ETA: 4:45 - loss: 4.9838 - acc: 0.009 - ETA: 4:44 - loss: 4.9830 - acc: 0.010 - ETA: 4:42 - loss: 4.9823 - acc: 0.009 - ETA: 4:41 - loss: 4.9816 - acc: 0.009 - ETA: 4:39 - loss: 4.9808 - acc: 0.009 - ETA: 4:38 - loss: 4.9798 - acc: 0.009 - ETA: 4:37 - loss: 4.9791 - acc: 0.009 - ETA: 4:36 - loss: 4.9786 - acc: 0.009 - ETA: 4:34 - loss: 4.9780 - acc: 0.010 - ETA: 4:33 - loss: 4.9773 - acc: 0.010 - ETA: 4:32 - loss: 4.9766 - acc: 0.010 - ETA: 4:30 - loss: 4.9760 - acc: 0.010 - ETA: 4:29 - loss: 4.9754 - acc: 0.009 - ETA: 4:27 - loss: 4.9748 - acc: 0.009 - ETA: 4:26 - loss: 4.9741 - acc: 0.009 - ETA: 4:25 - loss: 4.9735 - acc: 0.009 - ETA: 4:23 - loss: 4.9729 - acc: 0.009 - ETA: 4:22 - loss: 4.9722 - acc: 0.009 - ETA: 4:21 - loss: 4.9715 - acc: 0.009 - ETA: 4:20 - loss: 4.9713 - acc: 0.009 - ETA: 4:18 - loss: 4.9706 - acc: 0.009 - ETA: 4:17 - loss: 4.9701 - acc: 0.010 - ETA: 4:15 - loss: 4.9696 - acc: 0.009 - ETA: 4:14 - loss: 4.9689 - acc: 0.010 - ETA: 4:13 - loss: 4.9684 - acc: 0.010 - ETA: 4:11 - loss: 4.9678 - acc: 0.010 - ETA: 4:10 - loss: 4.9670 - acc: 0.010 - ETA: 4:09 - loss: 4.9681 - acc: 0.010 - ETA: 4:07 - loss: 4.9675 - acc: 0.010 - ETA: 4:06 - loss: 4.9670 - acc: 0.010 - ETA: 4:04 - loss: 4.9666 - acc: 0.010 - ETA: 4:03 - loss: 4.9660 - acc: 0.010 - ETA: 4:02 - loss: 4.9655 - acc: 0.010 - ETA: 4:00 - loss: 4.9649 - acc: 0.010 - ETA: 3:59 - loss: 4.9642 - acc: 0.010 - ETA: 3:57 - loss: 4.9636 - acc: 0.010 - ETA: 3:56 - loss: 4.9637 - acc: 0.010 - ETA: 3:55 - loss: 4.9632 - acc: 0.009 - ETA: 3:53 - loss: 4.9627 - acc: 0.009 - ETA: 3:52 - loss: 4.9624 - acc: 0.009 - ETA: 3:50 - loss: 4.9620 - acc: 0.009 - ETA: 3:49 - loss: 4.9615 - acc: 0.009 - ETA: 3:48 - loss: 4.9610 - acc: 0.009 - ETA: 3:47 - loss: 4.9606 - acc: 0.009 - ETA: 3:45 - loss: 4.9600 - acc: 0.009 - ETA: 3:44 - loss: 4.9596 - acc: 0.009 - ETA: 3:42 - loss: 4.9592 - acc: 0.009 - ETA: 3:41 - loss: 4.9586 - acc: 0.009 - ETA: 3:40 - loss: 4.9581 - acc: 0.009 - ETA: 3:38 - loss: 4.9580 - acc: 0.009 - ETA: 3:37 - loss: 4.9576 - acc: 0.009 - ETA: 3:36 - loss: 4.9571 - acc: 0.009 - ETA: 3:34 - loss: 4.9567 - acc: 0.009 - ETA: 3:33 - loss: 4.9564 - acc: 0.009 - ETA: 3:32 - loss: 4.9560 - acc: 0.009 - ETA: 3:30 - loss: 4.9557 - acc: 0.009 - ETA: 3:29 - loss: 4.9553 - acc: 0.009 - ETA: 3:28 - loss: 4.9549 - acc: 0.009 - ETA: 3:26 - loss: 4.9545 - acc: 0.009 - ETA: 3:25 - loss: 4.9542 - acc: 0.009 - ETA: 3:24 - loss: 4.9540 - acc: 0.009 - ETA: 3:22 - loss: 4.9537 - acc: 0.009 - ETA: 3:21 - loss: 4.9534 - acc: 0.009 - ETA: 3:19 - loss: 4.9531 - acc: 0.009 - ETA: 3:18 - loss: 4.9527 - acc: 0.009 - ETA: 3:17 - loss: 4.9524 - acc: 0.009 - ETA: 3:15 - loss: 4.9520 - acc: 0.009 - ETA: 3:14 - loss: 4.9518 - acc: 0.009 - ETA: 3:13 - loss: 4.9515 - acc: 0.009 - ETA: 3:11 - loss: 4.9512 - acc: 0.009 - ETA: 3:10 - loss: 4.9508 - acc: 0.009 - ETA: 3:09 - loss: 4.9504 - acc: 0.009 - ETA: 3:07 - loss: 4.9502 - acc: 0.009 - ETA: 3:06 - loss: 4.9499 - acc: 0.009 - ETA: 3:05 - loss: 4.9496 - acc: 0.009 - ETA: 3:03 - loss: 4.9493 - acc: 0.009 - ETA: 3:02 - loss: 4.9489 - acc: 0.009 - ETA: 3:01 - loss: 4.9487 - acc: 0.009 - ETA: 2:59 - loss: 4.9484 - acc: 0.009 - ETA: 2:58 - loss: 4.9481 - acc: 0.0096680/6680 [==============================] - ETA: 2:56 - loss: 4.9477 - acc: 0.009 - ETA: 2:55 - loss: 4.9474 - acc: 0.009 - ETA: 2:54 - loss: 4.9471 - acc: 0.009 - ETA: 2:52 - loss: 4.9468 - acc: 0.009 - ETA: 2:51 - loss: 4.9466 - acc: 0.009 - ETA: 2:49 - loss: 4.9463 - acc: 0.009 - ETA: 2:48 - loss: 4.9461 - acc: 0.009 - ETA: 2:47 - loss: 4.9458 - acc: 0.009 - ETA: 2:45 - loss: 4.9455 - acc: 0.009 - ETA: 2:44 - loss: 4.9451 - acc: 0.008 - ETA: 2:43 - loss: 4.9447 - acc: 0.008 - ETA: 2:41 - loss: 4.9445 - acc: 0.008 - ETA: 2:40 - loss: 4.9442 - acc: 0.008 - ETA: 2:38 - loss: 4.9438 - acc: 0.008 - ETA: 2:37 - loss: 4.9439 - acc: 0.008 - ETA: 2:36 - loss: 4.9436 - acc: 0.008 - ETA: 2:34 - loss: 4.9434 - acc: 0.008 - ETA: 2:33 - loss: 4.9432 - acc: 0.008 - ETA: 2:32 - loss: 4.9429 - acc: 0.008 - ETA: 2:30 - loss: 4.9427 - acc: 0.008 - ETA: 2:29 - loss: 4.9425 - acc: 0.008 - ETA: 2:28 - loss: 4.9423 - acc: 0.008 - ETA: 2:26 - loss: 4.9420 - acc: 0.008 - ETA: 2:25 - loss: 4.9418 - acc: 0.008 - ETA: 2:23 - loss: 4.9415 - acc: 0.009 - ETA: 2:22 - loss: 4.9411 - acc: 0.009 - ETA: 2:21 - loss: 4.9406 - acc: 0.008 - ETA: 2:19 - loss: 4.9402 - acc: 0.008 - ETA: 2:18 - loss: 4.9400 - acc: 0.008 - ETA: 2:17 - loss: 4.9398 - acc: 0.008 - ETA: 2:15 - loss: 4.9395 - acc: 0.008 - ETA: 2:14 - loss: 4.9394 - acc: 0.008 - ETA: 2:12 - loss: 4.9392 - acc: 0.008 - ETA: 2:11 - loss: 4.9390 - acc: 0.008 - ETA: 2:10 - loss: 4.9388 - acc: 0.008 - ETA: 2:08 - loss: 4.9385 - acc: 0.008 - ETA: 2:07 - loss: 4.9383 - acc: 0.008 - ETA: 2:06 - loss: 4.9380 - acc: 0.008 - ETA: 2:04 - loss: 4.9377 - acc: 0.008 - ETA: 2:03 - loss: 4.9374 - acc: 0.008 - ETA: 2:02 - loss: 4.9375 - acc: 0.008 - ETA: 2:00 - loss: 4.9372 - acc: 0.008 - ETA: 1:59 - loss: 4.9371 - acc: 0.008 - ETA: 1:57 - loss: 4.9370 - acc: 0.008 - ETA: 1:56 - loss: 4.9368 - acc: 0.008 - ETA: 1:55 - loss: 4.9366 - acc: 0.008 - ETA: 1:53 - loss: 4.9364 - acc: 0.008 - ETA: 1:52 - loss: 4.9362 - acc: 0.008 - ETA: 1:51 - loss: 4.9360 - acc: 0.008 - ETA: 1:49 - loss: 4.9358 - acc: 0.008 - ETA: 1:48 - loss: 4.9354 - acc: 0.008 - ETA: 1:47 - loss: 4.9352 - acc: 0.008 - ETA: 1:45 - loss: 4.9351 - acc: 0.008 - ETA: 1:44 - loss: 4.9350 - acc: 0.008 - ETA: 1:42 - loss: 4.9349 - acc: 0.008 - ETA: 1:41 - loss: 4.9347 - acc: 0.008 - ETA: 1:40 - loss: 4.9345 - acc: 0.008 - ETA: 1:38 - loss: 4.9342 - acc: 0.008 - ETA: 1:37 - loss: 4.9341 - acc: 0.008 - ETA: 1:36 - loss: 4.9340 - acc: 0.008 - ETA: 1:34 - loss: 4.9337 - acc: 0.008 - ETA: 1:33 - loss: 4.9335 - acc: 0.007 - ETA: 1:32 - loss: 4.9335 - acc: 0.007 - ETA: 1:30 - loss: 4.9333 - acc: 0.007 - ETA: 1:29 - loss: 4.9330 - acc: 0.008 - ETA: 1:28 - loss: 4.9329 - acc: 0.008 - ETA: 1:26 - loss: 4.9328 - acc: 0.008 - ETA: 1:25 - loss: 4.9326 - acc: 0.008 - ETA: 1:23 - loss: 4.9325 - acc: 0.008 - ETA: 1:22 - loss: 4.9323 - acc: 0.008 - ETA: 1:21 - loss: 4.9321 - acc: 0.008 - ETA: 1:19 - loss: 4.9320 - acc: 0.008 - ETA: 1:18 - loss: 4.9317 - acc: 0.008 - ETA: 1:17 - loss: 4.9316 - acc: 0.008 - ETA: 1:15 - loss: 4.9314 - acc: 0.008 - ETA: 1:14 - loss: 4.9312 - acc: 0.008 - ETA: 1:13 - loss: 4.9310 - acc: 0.008 - ETA: 1:11 - loss: 4.9308 - acc: 0.008 - ETA: 1:10 - loss: 4.9306 - acc: 0.008 - ETA: 1:09 - loss: 4.9307 - acc: 0.008 - ETA: 1:07 - loss: 4.9305 - acc: 0.008 - ETA: 1:06 - loss: 4.9303 - acc: 0.008 - ETA: 1:05 - loss: 4.9302 - acc: 0.008 - ETA: 1:03 - loss: 4.9300 - acc: 0.008 - ETA: 1:02 - loss: 4.9298 - acc: 0.008 - ETA: 1:00 - loss: 4.9296 - acc: 0.008 - ETA: 59s - loss: 4.9293 - acc: 0.008 - ETA: 58s - loss: 4.9292 - acc: 0.00 - ETA: 56s - loss: 4.9290 - acc: 0.00 - ETA: 55s - loss: 4.9289 - acc: 0.00 - ETA: 54s - loss: 4.9288 - acc: 0.00 - ETA: 52s - loss: 4.9286 - acc: 0.00 - ETA: 51s - loss: 4.9286 - acc: 0.00 - ETA: 50s - loss: 4.9285 - acc: 0.00 - ETA: 48s - loss: 4.9283 - acc: 0.00 - ETA: 47s - loss: 4.9281 - acc: 0.00 - ETA: 46s - loss: 4.9281 - acc: 0.00 - ETA: 44s - loss: 4.9279 - acc: 0.00 - ETA: 43s - loss: 4.9277 - acc: 0.00 - ETA: 42s - loss: 4.9276 - acc: 0.00 - ETA: 40s - loss: 4.9275 - acc: 0.00 - ETA: 39s - loss: 4.9273 - acc: 0.00 - ETA: 37s - loss: 4.9272 - acc: 0.00 - ETA: 36s - loss: 4.9271 - acc: 0.00 - ETA: 35s - loss: 4.9271 - acc: 0.00 - ETA: 33s - loss: 4.9269 - acc: 0.00 - ETA: 32s - loss: 4.9269 - acc: 0.00 - ETA: 31s - loss: 4.9268 - acc: 0.00 - ETA: 29s - loss: 4.9266 - acc: 0.00 - ETA: 28s - loss: 4.9264 - acc: 0.00 - ETA: 27s - loss: 4.9263 - acc: 0.00 - ETA: 25s - loss: 4.9263 - acc: 0.00 - ETA: 24s - loss: 4.9262 - acc: 0.00 - ETA: 23s - loss: 4.9261 - acc: 0.00 - ETA: 21s - loss: 4.9260 - acc: 0.00 - ETA: 20s - loss: 4.9258 - acc: 0.00 - ETA: 18s - loss: 4.9257 - acc: 0.00 - ETA: 17s - loss: 4.9256 - acc: 0.00 - ETA: 16s - loss: 4.9255 - acc: 0.00 - ETA: 14s - loss: 4.9254 - acc: 0.00 - ETA: 13s - loss: 4.9253 - acc: 0.00 - ETA: 12s - loss: 4.9252 - acc: 0.00 - ETA: 10s - loss: 4.9251 - acc: 0.00 - ETA: 9s - loss: 4.9249 - acc: 0.0084 - ETA: 8s - loss: 4.9249 - acc: 0.008 - ETA: 6s - loss: 4.9248 - acc: 0.008 - ETA: 5s - loss: 4.9246 - acc: 0.008 - ETA: 4s - loss: 4.9245 - acc: 0.008 - ETA: 2s - loss: 4.9244 - acc: 0.008 - ETA: 1s - loss: 4.9242 - acc: 0.008 - 473s 71ms/step - loss: 4.9243 - acc: 0.0084 - val_loss: 4.8832 - val_acc: 0.0108\n",
      "\n",
      "Epoch 00001: val_loss improved from inf to 4.88320, saving model to saved_models/weights.best.from_scratch.hdf5\n",
      "Epoch 2/10\n"
     ]
    },
    {
     "name": "stdout",
     "output_type": "stream",
     "text": [
      "4060/6680 [=================>............] - ETA: 7:00 - loss: 4.8825 - acc: 0.0000e+0 - ETA: 7:01 - loss: 4.8816 - acc: 0.0000e+0 - ETA: 7:05 - loss: 4.8790 - acc: 0.0000e+0 - ETA: 7:05 - loss: 4.8824 - acc: 0.0000e+0 - ETA: 7:02 - loss: 4.8827 - acc: 0.0000e+0 - ETA: 7:06 - loss: 4.8811 - acc: 0.0000e+0 - ETA: 7:12 - loss: 4.8804 - acc: 0.0000e+0 - ETA: 7:11 - loss: 4.8815 - acc: 0.0000e+0 - ETA: 7:09 - loss: 4.8808 - acc: 0.0000e+0 - ETA: 7:06 - loss: 4.8786 - acc: 0.0000e+0 - ETA: 7:04 - loss: 4.8795 - acc: 0.0045    - ETA: 7:04 - loss: 4.8774 - acc: 0.004 - ETA: 7:02 - loss: 4.8794 - acc: 0.003 - ETA: 7:01 - loss: 4.8802 - acc: 0.003 - ETA: 7:00 - loss: 4.8802 - acc: 0.003 - ETA: 6:59 - loss: 4.8787 - acc: 0.003 - ETA: 6:58 - loss: 4.8823 - acc: 0.002 - ETA: 6:59 - loss: 4.8803 - acc: 0.005 - ETA: 7:01 - loss: 4.8776 - acc: 0.007 - ETA: 7:02 - loss: 4.8796 - acc: 0.007 - ETA: 7:00 - loss: 4.8775 - acc: 0.007 - ETA: 6:58 - loss: 4.8746 - acc: 0.006 - ETA: 6:56 - loss: 4.8764 - acc: 0.006 - ETA: 6:54 - loss: 4.8773 - acc: 0.006 - ETA: 6:53 - loss: 4.8762 - acc: 0.006 - ETA: 6:51 - loss: 4.8720 - acc: 0.007 - ETA: 6:50 - loss: 4.8697 - acc: 0.007 - ETA: 6:50 - loss: 4.8687 - acc: 0.010 - ETA: 6:48 - loss: 4.8736 - acc: 0.010 - ETA: 6:48 - loss: 4.8731 - acc: 0.010 - ETA: 6:48 - loss: 4.8729 - acc: 0.012 - ETA: 6:46 - loss: 4.8722 - acc: 0.012 - ETA: 6:44 - loss: 4.8721 - acc: 0.012 - ETA: 6:42 - loss: 4.8723 - acc: 0.011 - ETA: 6:40 - loss: 4.8744 - acc: 0.011 - ETA: 6:39 - loss: 4.8759 - acc: 0.011 - ETA: 6:38 - loss: 4.8755 - acc: 0.010 - ETA: 6:36 - loss: 4.8752 - acc: 0.010 - ETA: 6:35 - loss: 4.8748 - acc: 0.010 - ETA: 6:34 - loss: 4.8745 - acc: 0.010 - ETA: 6:32 - loss: 4.8745 - acc: 0.011 - ETA: 6:32 - loss: 4.8749 - acc: 0.010 - ETA: 6:33 - loss: 4.8755 - acc: 0.010 - ETA: 6:32 - loss: 4.8755 - acc: 0.010 - ETA: 6:30 - loss: 4.8751 - acc: 0.010 - ETA: 6:28 - loss: 4.8743 - acc: 0.009 - ETA: 6:27 - loss: 4.8742 - acc: 0.009 - ETA: 6:25 - loss: 4.8746 - acc: 0.009 - ETA: 6:23 - loss: 4.8749 - acc: 0.009 - ETA: 6:22 - loss: 4.8754 - acc: 0.009 - ETA: 6:20 - loss: 4.8754 - acc: 0.008 - ETA: 6:18 - loss: 4.8757 - acc: 0.008 - ETA: 6:17 - loss: 4.8759 - acc: 0.008 - ETA: 6:16 - loss: 4.8768 - acc: 0.008 - ETA: 6:15 - loss: 4.8764 - acc: 0.009 - ETA: 6:14 - loss: 4.8767 - acc: 0.008 - ETA: 6:12 - loss: 4.8766 - acc: 0.009 - ETA: 6:10 - loss: 4.8770 - acc: 0.010 - ETA: 6:09 - loss: 4.8766 - acc: 0.010 - ETA: 6:07 - loss: 4.8764 - acc: 0.010 - ETA: 6:06 - loss: 4.8760 - acc: 0.010 - ETA: 6:04 - loss: 4.8756 - acc: 0.010 - ETA: 6:03 - loss: 4.8735 - acc: 0.011 - ETA: 6:02 - loss: 4.8791 - acc: 0.010 - ETA: 6:01 - loss: 4.8786 - acc: 0.011 - ETA: 6:00 - loss: 4.8776 - acc: 0.011 - ETA: 5:59 - loss: 4.8776 - acc: 0.011 - ETA: 5:58 - loss: 4.8777 - acc: 0.011 - ETA: 5:56 - loss: 4.8767 - acc: 0.011 - ETA: 5:55 - loss: 4.8760 - acc: 0.011 - ETA: 5:54 - loss: 4.8757 - acc: 0.011 - ETA: 5:52 - loss: 4.8776 - acc: 0.011 - ETA: 5:50 - loss: 4.8782 - acc: 0.011 - ETA: 5:49 - loss: 4.8781 - acc: 0.011 - ETA: 5:48 - loss: 4.8781 - acc: 0.011 - ETA: 5:47 - loss: 4.8783 - acc: 0.011 - ETA: 5:45 - loss: 4.8780 - acc: 0.011 - ETA: 5:44 - loss: 4.8777 - acc: 0.010 - ETA: 5:43 - loss: 4.8779 - acc: 0.010 - ETA: 5:42 - loss: 4.8790 - acc: 0.010 - ETA: 5:40 - loss: 4.8792 - acc: 0.010 - ETA: 5:39 - loss: 4.8791 - acc: 0.011 - ETA: 5:37 - loss: 4.8789 - acc: 0.010 - ETA: 5:36 - loss: 4.8793 - acc: 0.010 - ETA: 5:34 - loss: 4.8790 - acc: 0.010 - ETA: 5:33 - loss: 4.8787 - acc: 0.011 - ETA: 5:31 - loss: 4.8788 - acc: 0.010 - ETA: 5:30 - loss: 4.8789 - acc: 0.010 - ETA: 5:29 - loss: 4.8787 - acc: 0.010 - ETA: 5:28 - loss: 4.8787 - acc: 0.010 - ETA: 5:27 - loss: 4.8791 - acc: 0.010 - ETA: 5:26 - loss: 4.8789 - acc: 0.010 - ETA: 5:24 - loss: 4.8781 - acc: 0.010 - ETA: 5:23 - loss: 4.8784 - acc: 0.010 - ETA: 5:21 - loss: 4.8781 - acc: 0.010 - ETA: 5:20 - loss: 4.8780 - acc: 0.009 - ETA: 5:19 - loss: 4.8778 - acc: 0.009 - ETA: 5:17 - loss: 4.8776 - acc: 0.009 - ETA: 5:16 - loss: 4.8771 - acc: 0.009 - ETA: 5:14 - loss: 4.8769 - acc: 0.009 - ETA: 5:13 - loss: 4.8769 - acc: 0.009 - ETA: 5:12 - loss: 4.8778 - acc: 0.009 - ETA: 5:10 - loss: 4.8778 - acc: 0.009 - ETA: 5:09 - loss: 4.8783 - acc: 0.009 - ETA: 5:08 - loss: 4.8786 - acc: 0.009 - ETA: 5:06 - loss: 4.8783 - acc: 0.009 - ETA: 5:05 - loss: 4.8782 - acc: 0.009 - ETA: 5:03 - loss: 4.8781 - acc: 0.010 - ETA: 5:02 - loss: 4.8781 - acc: 0.010 - ETA: 5:00 - loss: 4.8776 - acc: 0.010 - ETA: 4:59 - loss: 4.8777 - acc: 0.009 - ETA: 4:57 - loss: 4.8778 - acc: 0.009 - ETA: 4:56 - loss: 4.8775 - acc: 0.009 - ETA: 4:55 - loss: 4.8789 - acc: 0.009 - ETA: 4:54 - loss: 4.8784 - acc: 0.009 - ETA: 4:53 - loss: 4.8781 - acc: 0.009 - ETA: 4:51 - loss: 4.8782 - acc: 0.009 - ETA: 4:50 - loss: 4.8781 - acc: 0.009 - ETA: 4:49 - loss: 4.8782 - acc: 0.009 - ETA: 4:47 - loss: 4.8781 - acc: 0.009 - ETA: 4:46 - loss: 4.8780 - acc: 0.009 - ETA: 4:44 - loss: 4.8770 - acc: 0.009 - ETA: 4:43 - loss: 4.8766 - acc: 0.009 - ETA: 4:41 - loss: 4.8767 - acc: 0.009 - ETA: 4:40 - loss: 4.8765 - acc: 0.010 - ETA: 4:39 - loss: 4.8762 - acc: 0.009 - ETA: 4:38 - loss: 4.8758 - acc: 0.010 - ETA: 4:37 - loss: 4.8755 - acc: 0.010 - ETA: 4:35 - loss: 4.8750 - acc: 0.010 - ETA: 4:34 - loss: 4.8754 - acc: 0.010 - ETA: 4:32 - loss: 4.8752 - acc: 0.011 - ETA: 4:31 - loss: 4.8750 - acc: 0.011 - ETA: 4:29 - loss: 4.8749 - acc: 0.010 - ETA: 4:28 - loss: 4.8747 - acc: 0.010 - ETA: 4:27 - loss: 4.8745 - acc: 0.010 - ETA: 4:25 - loss: 4.8746 - acc: 0.010 - ETA: 4:24 - loss: 4.8745 - acc: 0.010 - ETA: 4:23 - loss: 4.8739 - acc: 0.010 - ETA: 4:22 - loss: 4.8733 - acc: 0.010 - ETA: 4:20 - loss: 4.8748 - acc: 0.010 - ETA: 4:19 - loss: 4.8744 - acc: 0.010 - ETA: 4:18 - loss: 4.8737 - acc: 0.010 - ETA: 4:16 - loss: 4.8739 - acc: 0.010 - ETA: 4:15 - loss: 4.8741 - acc: 0.010 - ETA: 4:14 - loss: 4.8741 - acc: 0.010 - ETA: 4:12 - loss: 4.8740 - acc: 0.010 - ETA: 4:11 - loss: 4.8748 - acc: 0.010 - ETA: 4:09 - loss: 4.8747 - acc: 0.010 - ETA: 4:08 - loss: 4.8751 - acc: 0.010 - ETA: 4:07 - loss: 4.8750 - acc: 0.010 - ETA: 4:06 - loss: 4.8748 - acc: 0.010 - ETA: 4:04 - loss: 4.8740 - acc: 0.010 - ETA: 4:03 - loss: 4.8743 - acc: 0.010 - ETA: 4:01 - loss: 4.8742 - acc: 0.010 - ETA: 4:00 - loss: 4.8742 - acc: 0.010 - ETA: 3:59 - loss: 4.8739 - acc: 0.010 - ETA: 3:57 - loss: 4.8731 - acc: 0.010 - ETA: 3:56 - loss: 4.8734 - acc: 0.010 - ETA: 3:54 - loss: 4.8732 - acc: 0.010 - ETA: 3:53 - loss: 4.8731 - acc: 0.010 - ETA: 3:52 - loss: 4.8728 - acc: 0.010 - ETA: 3:51 - loss: 4.8728 - acc: 0.010 - ETA: 3:49 - loss: 4.8728 - acc: 0.010 - ETA: 3:48 - loss: 4.8730 - acc: 0.010 - ETA: 3:47 - loss: 4.8728 - acc: 0.010 - ETA: 3:45 - loss: 4.8726 - acc: 0.009 - ETA: 3:44 - loss: 4.8722 - acc: 0.009 - ETA: 3:43 - loss: 4.8720 - acc: 0.009 - ETA: 3:41 - loss: 4.8715 - acc: 0.010 - ETA: 3:40 - loss: 4.8716 - acc: 0.010 - ETA: 3:39 - loss: 4.8720 - acc: 0.010 - ETA: 3:37 - loss: 4.8717 - acc: 0.010 - ETA: 3:36 - loss: 4.8715 - acc: 0.010 - ETA: 3:35 - loss: 4.8710 - acc: 0.010 - ETA: 3:33 - loss: 4.8704 - acc: 0.010 - ETA: 3:32 - loss: 4.8704 - acc: 0.010 - ETA: 3:31 - loss: 4.8704 - acc: 0.010 - ETA: 3:29 - loss: 4.8699 - acc: 0.010 - ETA: 3:28 - loss: 4.8696 - acc: 0.010 - ETA: 3:26 - loss: 4.8688 - acc: 0.010 - ETA: 3:25 - loss: 4.8691 - acc: 0.010 - ETA: 3:24 - loss: 4.8692 - acc: 0.011 - ETA: 3:22 - loss: 4.8688 - acc: 0.011 - ETA: 3:21 - loss: 4.8685 - acc: 0.011 - ETA: 3:20 - loss: 4.8687 - acc: 0.011 - ETA: 3:18 - loss: 4.8690 - acc: 0.011 - ETA: 3:17 - loss: 4.8688 - acc: 0.012 - ETA: 3:16 - loss: 4.8686 - acc: 0.012 - ETA: 3:14 - loss: 4.8679 - acc: 0.012 - ETA: 3:13 - loss: 4.8680 - acc: 0.012 - ETA: 3:12 - loss: 4.8679 - acc: 0.012 - ETA: 3:10 - loss: 4.8675 - acc: 0.012 - ETA: 3:09 - loss: 4.8676 - acc: 0.012 - ETA: 3:08 - loss: 4.8666 - acc: 0.012 - ETA: 3:06 - loss: 4.8653 - acc: 0.013 - ETA: 3:05 - loss: 4.8660 - acc: 0.013 - ETA: 3:04 - loss: 4.8655 - acc: 0.013 - ETA: 3:02 - loss: 4.8650 - acc: 0.013 - ETA: 3:01 - loss: 4.8641 - acc: 0.013 - ETA: 3:00 - loss: 4.8639 - acc: 0.013 - ETA: 2:58 - loss: 4.8630 - acc: 0.013 - ETA: 2:57 - loss: 4.8631 - acc: 0.013 - ETA: 2:55 - loss: 4.8632 - acc: 0.0133"
     ]
    },
    {
     "name": "stdout",
     "output_type": "stream",
     "text": [
      "4460/6680 [===================>..........] - ETA: 2:54 - loss: 4.8630 - acc: 0.013 - ETA: 2:53 - loss: 4.8629 - acc: 0.013 - ETA: 2:51 - loss: 4.8631 - acc: 0.013 - ETA: 2:50 - loss: 4.8630 - acc: 0.013 - ETA: 2:49 - loss: 4.8626 - acc: 0.013 - ETA: 2:47 - loss: 4.8626 - acc: 0.013 - ETA: 2:46 - loss: 4.8624 - acc: 0.013 - ETA: 2:45 - loss: 4.8622 - acc: 0.013 - ETA: 2:43 - loss: 4.8626 - acc: 0.013 - ETA: 2:42 - loss: 4.8624 - acc: 0.013 - ETA: 2:41 - loss: 4.8624 - acc: 0.013 - ETA: 2:39 - loss: 4.8624 - acc: 0.013 - ETA: 2:38 - loss: 4.8622 - acc: 0.013 - ETA: 2:37 - loss: 4.8622 - acc: 0.013 - ETA: 2:35 - loss: 4.8619 - acc: 0.013 - ETA: 2:34 - loss: 4.8616 - acc: 0.013 - ETA: 2:33 - loss: 4.8624 - acc: 0.013 - ETA: 2:31 - loss: 4.8622 - acc: 0.013 - ETA: 2:30 - loss: 4.8619 - acc: 0.013 - ETA: 2:29 - loss: 4.8617 - acc: 0.0135"
     ]
    }
   ],
   "source": [
    "from keras.callbacks import ModelCheckpoint  \n",
    "\n",
    "### TODO: specify the number of epochs that you would like to use to train the model.\n",
    "\n",
    "epochs = 10\n",
    "\n",
    "### Do NOT modify the code below this line.\n",
    "\n",
    "checkpointer = ModelCheckpoint(filepath='saved_models/weights.best.from_scratch.hdf5', \n",
    "                               verbose=1, save_best_only=True)\n",
    "\n",
    "model.fit(train_tensors, train_targets, \n",
    "          validation_data=(valid_tensors, valid_targets),\n",
    "          epochs=epochs, batch_size=20, callbacks=[checkpointer], verbose=1)"
   ]
  },
  {
   "cell_type": "markdown",
   "metadata": {},
   "source": [
    "### Load the Model with the Best Validation Loss"
   ]
  },
  {
   "cell_type": "code",
   "execution_count": null,
   "metadata": {
    "collapsed": true
   },
   "outputs": [],
   "source": [
    "model.load_weights('saved_models/weights.best.from_scratch.hdf5')"
   ]
  },
  {
   "cell_type": "markdown",
   "metadata": {},
   "source": [
    "### Test the Model\n",
    "\n",
    "Try out your model on the test dataset of dog images.  Ensure that your test accuracy is greater than 1%."
   ]
  },
  {
   "cell_type": "code",
   "execution_count": null,
   "metadata": {
    "collapsed": true
   },
   "outputs": [],
   "source": [
    "# get index of predicted dog breed for each image in test set\n",
    "dog_breed_predictions = [np.argmax(model.predict(np.expand_dims(tensor, axis=0))) for tensor in test_tensors]\n",
    "\n",
    "# report test accuracy\n",
    "test_accuracy = 100*np.sum(np.array(dog_breed_predictions)==np.argmax(test_targets, axis=1))/len(dog_breed_predictions)\n",
    "print('Test accuracy: %.4f%%' % test_accuracy)"
   ]
  },
  {
   "cell_type": "markdown",
   "metadata": {},
   "source": [
    "---\n",
    "<a id='step4'></a>\n",
    "## Step 4: Use a CNN to Classify Dog Breeds\n",
    "\n",
    "To reduce training time without sacrificing accuracy, we show you how to train a CNN using transfer learning.  In the following step, you will get a chance to use transfer learning to train your own CNN.\n",
    "\n",
    "### Obtain Bottleneck Features"
   ]
  },
  {
   "cell_type": "code",
   "execution_count": null,
   "metadata": {
    "collapsed": true
   },
   "outputs": [],
   "source": [
    "bottleneck_features = np.load('bottleneck_features/DogVGG16Data.npz')\n",
    "train_VGG16 = bottleneck_features['train']\n",
    "valid_VGG16 = bottleneck_features['valid']\n",
    "test_VGG16 = bottleneck_features['test']"
   ]
  },
  {
   "cell_type": "markdown",
   "metadata": {},
   "source": [
    "### Model Architecture\n",
    "\n",
    "The model uses the the pre-trained VGG-16 model as a fixed feature extractor, where the last convolutional output of VGG-16 is fed as input to our model.  We only add a global average pooling layer and a fully connected layer, where the latter contains one node for each dog category and is equipped with a softmax."
   ]
  },
  {
   "cell_type": "code",
   "execution_count": null,
   "metadata": {
    "collapsed": true
   },
   "outputs": [],
   "source": [
    "VGG16_model = Sequential()\n",
    "VGG16_model.add(GlobalAveragePooling2D(input_shape=train_VGG16.shape[1:]))\n",
    "VGG16_model.add(Dense(133, activation='softmax'))\n",
    "\n",
    "VGG16_model.summary()"
   ]
  },
  {
   "cell_type": "markdown",
   "metadata": {},
   "source": [
    "### Compile the Model"
   ]
  },
  {
   "cell_type": "code",
   "execution_count": null,
   "metadata": {
    "collapsed": true
   },
   "outputs": [],
   "source": [
    "VGG16_model.compile(loss='categorical_crossentropy', optimizer='rmsprop', metrics=['accuracy'])"
   ]
  },
  {
   "cell_type": "markdown",
   "metadata": {},
   "source": [
    "### Train the Model"
   ]
  },
  {
   "cell_type": "code",
   "execution_count": null,
   "metadata": {
    "collapsed": true
   },
   "outputs": [],
   "source": [
    "checkpointer = ModelCheckpoint(filepath='saved_models/weights.best.VGG16.hdf5', \n",
    "                               verbose=1, save_best_only=True)\n",
    "\n",
    "VGG16_model.fit(train_VGG16, train_targets, \n",
    "          validation_data=(valid_VGG16, valid_targets),\n",
    "          epochs=20, batch_size=20, callbacks=[checkpointer], verbose=1)"
   ]
  },
  {
   "cell_type": "markdown",
   "metadata": {},
   "source": [
    "### Load the Model with the Best Validation Loss"
   ]
  },
  {
   "cell_type": "code",
   "execution_count": null,
   "metadata": {
    "collapsed": true
   },
   "outputs": [],
   "source": [
    "VGG16_model.load_weights('saved_models/weights.best.VGG16.hdf5')"
   ]
  },
  {
   "cell_type": "markdown",
   "metadata": {},
   "source": [
    "### Test the Model\n",
    "\n",
    "Now, we can use the CNN to test how well it identifies breed within our test dataset of dog images.  We print the test accuracy below."
   ]
  },
  {
   "cell_type": "code",
   "execution_count": null,
   "metadata": {
    "collapsed": true
   },
   "outputs": [],
   "source": [
    "# get index of predicted dog breed for each image in test set\n",
    "VGG16_predictions = [np.argmax(VGG16_model.predict(np.expand_dims(feature, axis=0))) for feature in test_VGG16]\n",
    "\n",
    "# report test accuracy\n",
    "test_accuracy = 100*np.sum(np.array(VGG16_predictions)==np.argmax(test_targets, axis=1))/len(VGG16_predictions)\n",
    "print('Test accuracy: %.4f%%' % test_accuracy)"
   ]
  },
  {
   "cell_type": "markdown",
   "metadata": {},
   "source": [
    "### Predict Dog Breed with the Model"
   ]
  },
  {
   "cell_type": "code",
   "execution_count": null,
   "metadata": {
    "collapsed": true
   },
   "outputs": [],
   "source": [
    "from extract_bottleneck_features import *\n",
    "\n",
    "def VGG16_predict_breed(img_path):\n",
    "    # extract bottleneck features\n",
    "    bottleneck_feature = extract_VGG16(path_to_tensor(img_path))\n",
    "    # obtain predicted vector\n",
    "    predicted_vector = VGG16_model.predict(bottleneck_feature)\n",
    "    # return dog breed that is predicted by the model\n",
    "    return dog_names[np.argmax(predicted_vector)]"
   ]
  },
  {
   "cell_type": "markdown",
   "metadata": {},
   "source": [
    "---\n",
    "<a id='step5'></a>\n",
    "## Step 5: Create a CNN to Classify Dog Breeds (using Transfer Learning)\n",
    "\n",
    "You will now use transfer learning to create a CNN that can identify dog breed from images.  Your CNN must attain at least 60% accuracy on the test set.\n",
    "\n",
    "In Step 4, we used transfer learning to create a CNN using VGG-16 bottleneck features.  In this section, you must use the bottleneck features from a different pre-trained model.  To make things easier for you, we have pre-computed the features for all of the networks that are currently available in Keras:\n",
    "- [VGG-19](https://s3-us-west-1.amazonaws.com/udacity-aind/dog-project/DogVGG19Data.npz) bottleneck features\n",
    "- [ResNet-50](https://s3-us-west-1.amazonaws.com/udacity-aind/dog-project/DogResnet50Data.npz) bottleneck features\n",
    "- [Inception](https://s3-us-west-1.amazonaws.com/udacity-aind/dog-project/DogInceptionV3Data.npz) bottleneck features\n",
    "- [Xception](https://s3-us-west-1.amazonaws.com/udacity-aind/dog-project/DogXceptionData.npz) bottleneck features\n",
    "\n",
    "The files are encoded as such:\n",
    "\n",
    "    Dog{network}Data.npz\n",
    "    \n",
    "where `{network}`, in the above filename, can be one of `VGG19`, `Resnet50`, `InceptionV3`, or `Xception`.  Pick one of the above architectures, download the corresponding bottleneck features, and store the downloaded file in the `bottleneck_features/` folder in the repository.\n",
    "\n",
    "### (IMPLEMENTATION) Obtain Bottleneck Features\n",
    "\n",
    "In the code block below, extract the bottleneck features corresponding to the train, test, and validation sets by running the following:\n",
    "\n",
    "    bottleneck_features = np.load('bottleneck_features/Dog{network}Data.npz')\n",
    "    train_{network} = bottleneck_features['train']\n",
    "    valid_{network} = bottleneck_features['valid']\n",
    "    test_{network} = bottleneck_features['test']"
   ]
  },
  {
   "cell_type": "code",
   "execution_count": null,
   "metadata": {
    "collapsed": true
   },
   "outputs": [],
   "source": [
    "### TODO: Obtain bottleneck features from another pre-trained CNN."
   ]
  },
  {
   "cell_type": "markdown",
   "metadata": {},
   "source": [
    "### (IMPLEMENTATION) Model Architecture\n",
    "\n",
    "Create a CNN to classify dog breed.  At the end of your code cell block, summarize the layers of your model by executing the line:\n",
    "    \n",
    "        <your model's name>.summary()\n",
    "   \n",
    "__Question 5:__ Outline the steps you took to get to your final CNN architecture and your reasoning at each step.  Describe why you think the architecture is suitable for the current problem.\n",
    "\n",
    "__Answer:__ \n",
    "\n"
   ]
  },
  {
   "cell_type": "code",
   "execution_count": null,
   "metadata": {
    "collapsed": true
   },
   "outputs": [],
   "source": [
    "### TODO: Define your architecture."
   ]
  },
  {
   "cell_type": "markdown",
   "metadata": {},
   "source": [
    "### (IMPLEMENTATION) Compile the Model"
   ]
  },
  {
   "cell_type": "code",
   "execution_count": null,
   "metadata": {
    "collapsed": true
   },
   "outputs": [],
   "source": [
    "### TODO: Compile the model."
   ]
  },
  {
   "cell_type": "markdown",
   "metadata": {},
   "source": [
    "### (IMPLEMENTATION) Train the Model\n",
    "\n",
    "Train your model in the code cell below.  Use model checkpointing to save the model that attains the best validation loss.  \n",
    "\n",
    "You are welcome to [augment the training data](https://blog.keras.io/building-powerful-image-classification-models-using-very-little-data.html), but this is not a requirement. "
   ]
  },
  {
   "cell_type": "code",
   "execution_count": null,
   "metadata": {
    "collapsed": true
   },
   "outputs": [],
   "source": [
    "### TODO: Train the model."
   ]
  },
  {
   "cell_type": "markdown",
   "metadata": {},
   "source": [
    "### (IMPLEMENTATION) Load the Model with the Best Validation Loss"
   ]
  },
  {
   "cell_type": "code",
   "execution_count": null,
   "metadata": {
    "collapsed": true
   },
   "outputs": [],
   "source": [
    "### TODO: Load the model weights with the best validation loss."
   ]
  },
  {
   "cell_type": "markdown",
   "metadata": {},
   "source": [
    "### (IMPLEMENTATION) Test the Model\n",
    "\n",
    "Try out your model on the test dataset of dog images. Ensure that your test accuracy is greater than 60%."
   ]
  },
  {
   "cell_type": "code",
   "execution_count": null,
   "metadata": {
    "collapsed": true
   },
   "outputs": [],
   "source": [
    "### TODO: Calculate classification accuracy on the test dataset."
   ]
  },
  {
   "cell_type": "markdown",
   "metadata": {},
   "source": [
    "### (IMPLEMENTATION) Predict Dog Breed with the Model\n",
    "\n",
    "Write a function that takes an image path as input and returns the dog breed (`Affenpinscher`, `Afghan_hound`, etc) that is predicted by your model.  \n",
    "\n",
    "Similar to the analogous function in Step 5, your function should have three steps:\n",
    "1. Extract the bottleneck features corresponding to the chosen CNN model.\n",
    "2. Supply the bottleneck features as input to the model to return the predicted vector.  Note that the argmax of this prediction vector gives the index of the predicted dog breed.\n",
    "3. Use the `dog_names` array defined in Step 0 of this notebook to return the corresponding breed.\n",
    "\n",
    "The functions to extract the bottleneck features can be found in `extract_bottleneck_features.py`, and they have been imported in an earlier code cell.  To obtain the bottleneck features corresponding to your chosen CNN architecture, you need to use the function\n",
    "\n",
    "    extract_{network}\n",
    "    \n",
    "where `{network}`, in the above filename, should be one of `VGG19`, `Resnet50`, `InceptionV3`, or `Xception`."
   ]
  },
  {
   "cell_type": "code",
   "execution_count": null,
   "metadata": {
    "collapsed": true
   },
   "outputs": [],
   "source": [
    "### TODO: Write a function that takes a path to an image as input\n",
    "### and returns the dog breed that is predicted by the model."
   ]
  },
  {
   "cell_type": "markdown",
   "metadata": {},
   "source": [
    "---\n",
    "<a id='step6'></a>\n",
    "## Step 6: Write your Algorithm\n",
    "\n",
    "Write an algorithm that accepts a file path to an image and first determines whether the image contains a human, dog, or neither.  Then,\n",
    "- if a __dog__ is detected in the image, return the predicted breed.\n",
    "- if a __human__ is detected in the image, return the resembling dog breed.\n",
    "- if __neither__ is detected in the image, provide output that indicates an error.\n",
    "\n",
    "You are welcome to write your own functions for detecting humans and dogs in images, but feel free to use the `face_detector` and `dog_detector` functions developed above.  You are __required__ to use your CNN from Step 5 to predict dog breed.  \n",
    "\n",
    "Some sample output for our algorithm is provided below, but feel free to design your own user experience!\n",
    "\n",
    "![Sample Human Output](images/sample_human_output.png)\n",
    "\n",
    "\n",
    "### (IMPLEMENTATION) Write your Algorithm"
   ]
  },
  {
   "cell_type": "code",
   "execution_count": null,
   "metadata": {
    "collapsed": true
   },
   "outputs": [],
   "source": [
    "### TODO: Write your algorithm.\n",
    "### Feel free to use as many code cells as needed."
   ]
  },
  {
   "cell_type": "markdown",
   "metadata": {},
   "source": [
    "---\n",
    "<a id='step7'></a>\n",
    "## Step 7: Test Your Algorithm\n",
    "\n",
    "In this section, you will take your new algorithm for a spin!  What kind of dog does the algorithm think that __you__ look like?  If you have a dog, does it predict your dog's breed accurately?  If you have a cat, does it mistakenly think that your cat is a dog?\n",
    "\n",
    "### (IMPLEMENTATION) Test Your Algorithm on Sample Images!\n",
    "\n",
    "Test your algorithm at least six images on your computer.  Feel free to use any images you like.  Use at least two human and two dog images.  \n",
    "\n",
    "__Question 6:__ Is the output better than you expected :) ?  Or worse :( ?  Provide at least three possible points of improvement for your algorithm.\n",
    "\n",
    "__Answer:__ "
   ]
  },
  {
   "cell_type": "code",
   "execution_count": null,
   "metadata": {
    "collapsed": true
   },
   "outputs": [],
   "source": [
    "## TODO: Execute your algorithm from Step 6 on\n",
    "## at least 6 images on your computer.\n",
    "## Feel free to use as many code cells as needed."
   ]
  }
 ],
 "metadata": {
  "anaconda-cloud": {},
  "kernelspec": {
   "display_name": "Python 3",
   "language": "python",
   "name": "python3"
  },
  "language_info": {
   "codemirror_mode": {
    "name": "ipython",
    "version": 3
   },
   "file_extension": ".py",
   "mimetype": "text/x-python",
   "name": "python",
   "nbconvert_exporter": "python",
   "pygments_lexer": "ipython3",
   "version": "3.6.4"
  }
 },
 "nbformat": 4,
 "nbformat_minor": 1
}
